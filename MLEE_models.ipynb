{
  "nbformat": 4,
  "nbformat_minor": 0,
  "metadata": {
    "anaconda-cloud": {},
    "kernelspec": {
      "display_name": "Python [default]",
      "language": "python",
      "name": "python2"
    },
    "language_info": {
      "codemirror_mode": {
        "name": "ipython",
        "version": 2
      },
      "file_extension": ".py",
      "mimetype": "text/x-python",
      "name": "python",
      "nbconvert_exporter": "python",
      "pygments_lexer": "ipython2",
      "version": "2.7.15"
    },
    "colab": {
      "name": "MLEE-models.ipynb",
      "provenance": [],
      "collapsed_sections": []
    }
  },
  "cells": [
    {
      "cell_type": "code",
      "metadata": {
        "id": "GjbW9G8AS9Mr"
      },
      "source": [
        "import pandas as pd\n",
        "import scipy.stats as st\n",
        "import numpy as np\n",
        "from sklearn import ensemble\n",
        "import sklearn as skl\n",
        "from sklearn.preprocessing import PolynomialFeatures\n",
        "from sklearn.preprocessing import StandardScaler\n",
        "from sklearn import linear_model\n",
        "from sklearn.metrics import mean_squared_error\n",
        "import math\n",
        "from sklearn.model_selection import train_test_split\n",
        "%pylab inline"
      ],
      "execution_count": null,
      "outputs": []
    },
    {
      "cell_type": "code",
      "metadata": {
        "id": "FGsTAtUcS9M7"
      },
      "source": [
        "data=pd.read_csv('Dataset.csv',header=None)\n",
        "Y=data.loc[:,data.columns==43]\n",
        "data=np.array(data)\n",
        "Y=np.array(Y)\n",
        "Y=Y.reshape(Y.shape[0])\n",
        "tmpY=np.zeros(Y.shape[0])\n",
        "tmpY[(Y>0.2)&(Y<25)]=1.\n",
        "tmpY[Y<0.2]=2."
      ],
      "execution_count": null,
      "outputs": []
    },
    {
      "cell_type": "code",
      "metadata": {
        "id": "c1oBkTjZS9NC"
      },
      "source": [
        "X_train, X_test, y_train, y_test = train_test_split( data, tmpY, test_size=0.40, random_state=42)"
      ],
      "execution_count": null,
      "outputs": []
    },
    {
      "cell_type": "code",
      "metadata": {
        "id": "YAo_1eYCpkCt"
      },
      "source": [
        "scaler=skl.preprocessing.FunctionTransformer(func=lambda x: 1 / (1 + np.exp(-x)))\n",
        "scaler=scaler.fit(data[:,:43])\n",
        "\n",
        "X_t=X_train[:,:43]\n",
        "Y_t=y_train\n",
        "tmpX=scaler.transform(X_t)\n",
        "# modelClassify=skl.svm.SVC(C=70,kernel='poly',probability=True,random_state=42,class_weight='balanced')\n",
        "# modelClassify=skl.linear_model.LogisticRegression(C=10,random_state=42,class_weight='balanced')\n",
        "# modelClassify=skl.ensemble.RandomForestClassifier(n_estimators=10,criterion='entropy', class_weight='balanced', random_state=42)\n",
        "# modelClassify=skl.tree.DecisionTreeClassifier(criterion='gini', class_weight='balanced', random_state=42)\n",
        "modelClassify=skl.neighbors.KNeighborsClassifier(n_neighbors=2,weights='distance')\n",
        "modelClassify.fit(tmpX,Y_t)\n",
        "Xte=X_test[:,:43]\n",
        "Yte=y_test\n",
        "tmpX=scaler.transform(Xte)\n",
        "y_p = modelClassify.predict(tmpX)\n",
        "cm = skl.metrics.confusion_matrix(Yte, y_p)\n",
        "cm = cm.astype('float') / cm.sum(axis=1)[:, np.newaxis]\n",
        "print(skl.metrics.precision_score(Yte,y_p,average='macro'))\n",
        "print(skl.metrics.recall_score(Yte,y_p,average='macro'))\n",
        "print(skl.metrics.f1_score(Yte,y_p,average='macro'))\n",
        "print(skl.metrics.accuracy_score(Yte,y_p))\n",
        "print(cm.diagonal())\n"
      ],
      "execution_count": null,
      "outputs": []
    },
    {
      "cell_type": "code",
      "metadata": {
        "id": "gjIaH6a3S9NL"
      },
      "source": [
        "kf = skl.model_selection.StratifiedKFold(n_splits=5,shuffle=True,random_state=42)"
      ],
      "execution_count": null,
      "outputs": []
    },
    {
      "cell_type": "code",
      "metadata": {
        "id": "p2dBqgGZS9Ng"
      },
      "source": [
        "scaler=skl.preprocessing.FunctionTransformer(func=lambda x: 1 / (1 + np.exp(-x)))\n",
        "scaler=scaler.fit(data[:,:43])\n",
        "\n",
        "cv_score={'pre':0,'rec':0,'f1_score':0,'acc':0}\n",
        "cv_score2={'pre':np.array([0.,0.,0.]),'rec':np.array([0.,0.,0.]),'f1_score':np.array([0.,0.,0.]),'acc':np.array([0.,0.,0.])}\n",
        "for train_index, test_index in kf.split(data,tmpY):\n",
        "    X_t=data[train_index,:43]\n",
        "    Y_t=tmpY[train_index]\n",
        "    tmpX=scaler.transform(X_t)\n",
        "    modelClassify=skl.tree.DecisionTreeClassifier(criterion='gini', class_weight='balanced', random_state=42)\n",
        "    modelClassify.fit(tmpX,Y_t)\n",
        "    Xte=data[test_index,:43]\n",
        "    Yte=tmpY[test_index]\n",
        "    tmpX=scaler.transform(Xte)\n",
        "    y_p = modelClassify.predict(tmpX)\n",
        "    cv_score['pre']+=skl.metrics.precision_score(Yte,y_p,average='macro')\n",
        "    cv_score['rec']+=skl.metrics.recall_score(Yte,y_p,average='macro')\n",
        "    cv_score['f1_score']+=skl.metrics.f1_score(Yte,y_p,average='macro')\n",
        "    cv_score['acc']+=skl.metrics.accuracy_score(Yte,y_p)\n",
        "    cm = skl.metrics.confusion_matrix(Yte, y_p)\n",
        "    cm = cm.astype('float') / cm.sum(axis=1)[:, np.newaxis]\n",
        "    cv_score2['acc']+=np.array(cm.diagonal())\n",
        "    tt=skl.metrics.precision_recall_fscore_support(Yte,y_p)\n",
        "    cv_score2['pre']+=tt[0]\n",
        "    cv_score2['rec']+=tt[1]\n",
        "    cv_score2['f1_score']+=tt[2]\n",
        "cv_score,cv_score2"
      ],
      "execution_count": null,
      "outputs": []
    },
    {
      "cell_type": "code",
      "metadata": {
        "id": "8mzmMvCcAYS9"
      },
      "source": [
        "print(cv_score['pre']/5,cv_score['rec']/5,cv_score['acc']/5,cv_score['f1_score']/5)\n",
        "print(cv_score2['pre']/5,cv_score2['rec']/5,cv_score2['acc']/5,cv_score2['f1_score']/5)"
      ],
      "execution_count": null,
      "outputs": []
    },
    {
      "cell_type": "code",
      "metadata": {
        "id": "ebuIBVPKS9NS"
      },
      "source": [
        "correlate=[]\n",
        "for i in range(43):\n",
        "    t1,t2=st.spearmanr(data[:,i],Y)\n",
        "    if t2<0.0012:\n",
        "        correlate.append((i,round(t1,4),round(t2,4)))\n",
        "# [i[0] for i in correlate]"
      ],
      "execution_count": null,
      "outputs": []
    },
    {
      "cell_type": "code",
      "metadata": {
        "id": "x01MgRfSS9Nb"
      },
      "source": [
        "tmpData=data[:,[i[0] for i in correlate]]"
      ],
      "execution_count": null,
      "outputs": []
    },
    {
      "cell_type": "code",
      "metadata": {
        "id": "id3I46VhS9Nn"
      },
      "source": [
        "scaler=skl.preprocessing.FunctionTransformer(func=lambda x: 1 / (1 + np.exp(-x)))\n",
        "scaler=scaler.fit(data[:,:43])\n",
        "\n",
        "cv_score={'pre':0,'rec':0,'f1_score':0,'acc':0}\n",
        "cv_score2={'pre':np.array([0.,0.,0.]),'rec':np.array([0.,0.,0.]),'f1_score':np.array([0.,0.,0.]),'acc':np.array([0.,0.,0.])}\n",
        "for train_index, test_index in kf.split(tmpData,tmpY):\n",
        "    X_t=tmpData[train_index]\n",
        "    Y_t=tmpY[train_index]\n",
        "    tmpX=scaler.transform(X_t)\n",
        "    modelClassify=skl.tree.DecisionTreeClassifier(criterion='gini', class_weight='balanced', random_state=42)\n",
        "    modelClassify.fit(tmpX,Y_t)\n",
        "    Xte=tmpData[test_index]\n",
        "    Yte=tmpY[test_index]\n",
        "    tmpX=scaler.transform(Xte)\n",
        "    y_p = modelClassify.predict(tmpX)\n",
        "    cv_score['pre']+=skl.metrics.precision_score(Yte,y_p,average='macro')\n",
        "    cv_score['rec']+=skl.metrics.recall_score(Yte,y_p,average='macro')\n",
        "    cv_score['f1_score']+=skl.metrics.f1_score(Yte,y_p,average='macro')\n",
        "    cv_score['acc']+=skl.metrics.accuracy_score(Yte,y_p)\n",
        "    cm = skl.metrics.confusion_matrix(Yte, y_p)\n",
        "    cm = cm.astype('float') / cm.sum(axis=1)[:, np.newaxis]\n",
        "    cv_score2['acc']+=np.array(cm.diagonal())\n",
        "    tt=skl.metrics.precision_recall_fscore_support(Yte,y_p)\n",
        "    cv_score2['pre']+=tt[0]\n",
        "    cv_score2['rec']+=tt[1]\n",
        "    cv_score2['f1_score']+=tt[2]\n",
        "print(cv_score,cv_score2)\n",
        "print(cv_score['pre']/5,cv_score['rec']/5,cv_score['acc']/5,cv_score['f1_score']/5)\n",
        "print(cv_score2['pre']/5,cv_score2['rec']/5,cv_score2['acc']/5,cv_score2['f1_score']/5)"
      ],
      "execution_count": null,
      "outputs": []
    },
    {
      "cell_type": "code",
      "metadata": {
        "id": "yuDD08liXz5M"
      },
      "source": [
        "def RRMSE(A,Y):\n",
        "  tmp = Y-A\n",
        "  tmp = tmp*tmp*1.0\n",
        "  A = A*A*1.0\n",
        "  return np.sqrt(np.mean(tmp/A))\n",
        "  # return (np.sqrt(np.sum(tmp)) / np.sqrt(np.sum(A))) / len(A)\n",
        "def RMAE(A,Y):\n",
        "  A = A * 1.0\n",
        "  Y = Y * 1.0\n",
        "  Y[A==0] += 0.1\n",
        "  A[A==0] += 0.1\n",
        "  tmp = Y / A\n",
        "  tmp = np.abs(1 - tmp)\n",
        "  return np.mean(tmp)\n"
      ],
      "execution_count": null,
      "outputs": []
    },
    {
      "cell_type": "code",
      "metadata": {
        "id": "DXWu96dUdHZ3"
      },
      "source": [
        "scaler=skl.preprocessing.FunctionTransformer(func=lambda x: 1 / (1 + np.exp(-x)))\n",
        "scaler=scaler.fit(data[:,:43])\n",
        "poly=PolynomialFeatures(degree=2)\n",
        "poly=poly.fit(data[:,:43])\n",
        "\n",
        "X_t=X_train[:,:43]\n",
        "Y_t=X_train[:,-1]\n",
        "tmp_t=y_train\n",
        "Xte=X_test[:,:43]\n",
        "Yte=X_test[:,-1]\n",
        "tmp_te=y_test\n",
        "for c in [0,1,2]:\n",
        "    X_t_=X_t[tmp_t==c]\n",
        "    Y_t_=Y_t[tmp_t==c]\n",
        "#     tmpX=poly.transform(scaler.transform(X_t_))\n",
        "    tmpX=scaler.transform(X_t_)\n",
        "    # tmpModel=skl.linear_model.LinearRegression(normalize=True)\n",
        "#     tmpModel=skl.linear_model.Lasso(normalize=True,alpha=3,random_state=42)\n",
        "    tmpModel=skl.ensemble.RandomForestRegressor(n_estimators=12,min_samples_split=2,random_state=42)\n",
        "    # tmpModel=skl.tree.DecisionTreeRegressor(random_state=42)\n",
        "    tmpModel.fit(tmpX,Y_t_)\n",
        "    Xte_=Xte[tmp_te==c]\n",
        "    Yte_=Yte[tmp_te==c]\n",
        "#     tmpX=poly.transform(scaler.transform(Xte_))\n",
        "    tmpX=scaler.transform(Xte_)\n",
        "    tmpY2=tmpModel.predict(tmpX)\n",
        "    print(c,mean_squared_error(Yte_,tmpY2),skl.metrics.mean_absolute_error(Yte_,tmpY2),RRMSE(Yte_,tmpY2),RMAE(Yte_,tmpY2))\n",
        "# tmpX=poly.transform(scaler.transform(X_t))\n",
        "tmpX=scaler.transform(X_t)\n",
        "# tmpModel=skl.linear_model.LinearRegression(normalize=True)\n",
        "# tmpModel=skl.linear_model.Lasso(normalize=True,alpha=3,random_state=42)\n",
        "tmpModel=skl.ensemble.RandomForestRegressor(n_estimators=12,min_samples_split=2,random_state=42)\n",
        "# tmpModel=skl.tree.DecisionTreeRegressor(random_state=42)\n",
        "tmpModel.fit(tmpX,Y_t)\n",
        "# tmpX=poly.transform(scaler.transform(Xte_))\n",
        "tmpX=scaler.transform(Xte)\n",
        "tmpY2=tmpModel.predict(tmpX)\n",
        "print(mean_squared_error(Yte,tmpY2),skl.metrics.mean_absolute_error(Yte,tmpY2),RRMSE(Yte,tmpY2),RMAE(Yte,tmpY2))\n"
      ],
      "execution_count": null,
      "outputs": []
    },
    {
      "cell_type": "code",
      "metadata": {
        "id": "Src0j9-0S9Nx"
      },
      "source": [
        "scaler=skl.preprocessing.FunctionTransformer(func=lambda x: 1 / (1 + np.exp(-x)))\n",
        "scaler=scaler.fit(data[:,:43])\n",
        "\n",
        "f_c=0\n",
        "cv_score={'c1':np.array([0.,0.]),'c2':np.array([0.,0.]),'c3':np.array([0.,0.]),'all':np.array([0.,0.])}\n",
        "for train_index, test_index in kf.split(data,tmpY):\n",
        "    f_c+=1\n",
        "    X_t=data[train_index,:43]\n",
        "    Y_t=Y[train_index]\n",
        "    tmp_t=tmpY[train_index]\n",
        "    Xte=data[test_index,:43]\n",
        "    Yte=Y[test_index]\n",
        "    tmp_te=tmpY[test_index]\n",
        "    for c in [0,1,2]:\n",
        "        X_t_=X_t[tmp_t==c]\n",
        "        Y_t_=Y_t[tmp_t==c]\n",
        "        tmpX=scaler.transform(X_t_)\n",
        "        tmpModel=skl.tree.DecisionTreeRegressor(random_state=42)\n",
        "        tmpModel.fit(tmpX,Y_t_)\n",
        "        Xte_=Xte[tmp_te==c]\n",
        "        Yte_=Yte[tmp_te==c]\n",
        "        tmpX=scaler.transform(Xte_)\n",
        "        tmpY2=tmpModel.predict(tmpX)\n",
        "        print(f_c,c,mean_squared_error(Yte_,tmpY2),skl.metrics.mean_absolute_error(Yte_,tmpY2))\n",
        "        cv_score['c'+str(c+1)]+=[mean_squared_error(Yte_,tmpY2),skl.metrics.mean_absolute_error(Yte_,tmpY2)]\n",
        "    tmpX=scaler.transform(X_t)\n",
        "    tmpModel=skl.tree.DecisionTreeRegressor(random_state=42)\n",
        "    tmpModel.fit(tmpX,Y_t)\n",
        "    tmpX=scaler.transform(Xte)\n",
        "    tmpY2=tmpModel.predict(tmpX)\n",
        "    print(f_c,mean_squared_error(Yte,tmpY2),skl.metrics.mean_absolute_error(Yte,tmpY2))\n",
        "    cv_score['all']+=[mean_squared_error(Yte,tmpY2),skl.metrics.mean_absolute_error(Yte,tmpY2)]\n",
        "print(cv_score['c1']/5,cv_score['c2']/5,cv_score['c3']/5,cv_score['all']/5)"
      ],
      "execution_count": null,
      "outputs": []
    },
    {
      "cell_type": "code",
      "metadata": {
        "id": "cRWttj1YS9N6"
      },
      "source": [
        "scaler=skl.preprocessing.FunctionTransformer(func=lambda x: 1 / (1 + np.exp(-x)))\n",
        "scaler=scaler.fit(tmpData)\n",
        "\n",
        "f_c=0\n",
        "cv_score={'c1':np.array([0.,0.]),'c2':np.array([0.,0.]),'c3':np.array([0.,0.]),'all':np.array([0.,0.])}\n",
        "for train_index, test_index in kf.split(tmpData,tmpY):\n",
        "    f_c+=1\n",
        "    X_t=tmpData[train_index]\n",
        "    Y_t=Y[train_index]\n",
        "    tmp_t=tmpY[train_index]\n",
        "    Xte=tmpData[test_index]\n",
        "    Yte=Y[test_index]\n",
        "    tmp_te=tmpY[test_index]\n",
        "    for c in [0,1,2]:\n",
        "        X_t_=X_t[tmp_t==c]\n",
        "        Y_t_=Y_t[tmp_t==c]\n",
        "        tmpX=scaler.transform(X_t_)\n",
        "        tmpModel=skl.tree.DecisionTreeRegressor(random_state=42)\n",
        "        tmpModel.fit(tmpX,Y_t_)\n",
        "        Xte_=Xte[tmp_te==c]\n",
        "        Yte_=Yte[tmp_te==c]\n",
        "        tmpX=scaler.transform(Xte_)\n",
        "        tmpY2=tmpModel.predict(tmpX)\n",
        "        print(f_c,c,mean_squared_error(Yte_,tmpY2),skl.metrics.mean_absolute_error(Yte_,tmpY2))\n",
        "        cv_score['c'+str(c+1)]+=[mean_squared_error(Yte_,tmpY2),skl.metrics.mean_absolute_error(Yte_,tmpY2)]\n",
        "    tmpX=scaler.transform(X_t)\n",
        "    tmpModel=skl.tree.DecisionTreeRegressor(random_state=42)\n",
        "    tmpModel.fit(tmpX,Y_t)\n",
        "    tmpX=scaler.transform(Xte)\n",
        "    tmpY2=tmpModel.predict(tmpX)\n",
        "    print(f_c,mean_squared_error(Yte,tmpY2),skl.metrics.mean_absolute_error(Yte,tmpY2))\n",
        "    cv_score['all']+=[mean_squared_error(Yte,tmpY2),skl.metrics.mean_absolute_error(Yte,tmpY2)]\n",
        "print(cv_score['c1']/5,cv_score['c2']/5,cv_score['c3']/5,cv_score['all']/5)"
      ],
      "execution_count": null,
      "outputs": []
    },
    {
      "cell_type": "code",
      "metadata": {
        "id": "pg5q0jhET1EP"
      },
      "source": [
        ""
      ],
      "execution_count": null,
      "outputs": []
    }
  ]
}